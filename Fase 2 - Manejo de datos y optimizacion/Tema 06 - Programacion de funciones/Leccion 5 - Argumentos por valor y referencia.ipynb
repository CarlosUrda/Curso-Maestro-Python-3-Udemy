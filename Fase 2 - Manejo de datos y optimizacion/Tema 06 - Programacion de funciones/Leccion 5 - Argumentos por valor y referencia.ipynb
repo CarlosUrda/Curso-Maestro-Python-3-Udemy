{
 "cells": [
  {
   "cell_type": "code",
   "execution_count": 1,
   "metadata": {},
   "outputs": [],
   "source": [
    "# En Python solo existe el paso por valor y no existe el paso por referencia. Siempre se pasa por valor una referencia a \n",
    "# un objeto (ya que en Python todo son objetos). Es decir, se pasa una copia del valor contenido en la variable del \n",
    "# argumento (referencia a un objeto) a la variable parámetro que lo recibe en la función, siendo ambas variables \n",
    "# distintas. Por lo tanto, lo único que se puede hacer es modificar el contenido del\n",
    "# objeto referenciado pasado a la función si es un objeto mutable, pero nunca se puede cambiar el contenido de la \n",
    "# variable argumento (haciendo que apunte a otro objeto), ya que el contenido de la variable argumento (referencia al\n",
    "# objeto apuntado) es siempre pasado como valor."
   ]
  },
  {
   "cell_type": "code",
   "execution_count": 2,
   "metadata": {},
   "outputs": [
    {
     "name": "stdout",
     "output_type": "stream",
     "text": [
      "2\n"
     ]
    }
   ],
   "source": [
    "def f(a):\n",
    "    a *= 2\n",
    "  \n",
    "b = 2\n",
    "f(b)\n",
    "print(b)"
   ]
  },
  {
   "cell_type": "code",
   "execution_count": 3,
   "metadata": {},
   "outputs": [
    {
     "name": "stdout",
     "output_type": "stream",
     "text": [
      "[None, 2, 3]\n"
     ]
    }
   ],
   "source": [
    "def f(l):\n",
    "    l[0] = None\n",
    "    l = []\n",
    "    \n",
    "s = [1,2,3]\n",
    "f(s)\n",
    "print(s)"
   ]
  },
  {
   "cell_type": "code",
   "execution_count": null,
   "metadata": {},
   "outputs": [],
   "source": []
  }
 ],
 "metadata": {
  "kernelspec": {
   "display_name": "Python 3",
   "language": "python",
   "name": "python3"
  },
  "language_info": {
   "codemirror_mode": {
    "name": "ipython",
    "version": 3
   },
   "file_extension": ".py",
   "mimetype": "text/x-python",
   "name": "python",
   "nbconvert_exporter": "python",
   "pygments_lexer": "ipython3",
   "version": "3.7.1"
  }
 },
 "nbformat": 4,
 "nbformat_minor": 1
}
