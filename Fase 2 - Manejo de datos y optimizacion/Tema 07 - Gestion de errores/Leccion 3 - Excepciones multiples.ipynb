{
 "cells": [
  {
   "cell_type": "code",
   "execution_count": 20,
   "metadata": {},
   "outputs": [
    {
     "name": "stdout",
     "output_type": "stream",
     "text": [
      "Introduce el primer número: 2\n",
      "Introduce el segundo número: 0\n",
      "No se puede dividir por 0: division by zero\n"
     ]
    }
   ],
   "source": [
    "try:\n",
    "    num1 = int(input(\"Introduce el primer número: \"))\n",
    "    num2 = int(input(\"Introduce el segundo número: \"))\n",
    "    print(f\"num1/num2 = {num1/num2}\")\n",
    "    #2 + \"2\"\n",
    "except ZeroDivisionError as e:\n",
    "    print(\"No se puede dividir por 0:\", e)\n",
    "except ValueError as e:\n",
    "    print(\"Debes introducir un entero:\", e)\n",
    "except Exception as e:\n",
    "    print(type(e).__name__, e)\n",
    "else:\n",
    "    print(\"Operación realizada correctamente\")"
   ]
  },
  {
   "cell_type": "code",
   "execution_count": null,
   "metadata": {},
   "outputs": [],
   "source": []
  },
  {
   "cell_type": "code",
   "execution_count": null,
   "metadata": {},
   "outputs": [],
   "source": []
  }
 ],
 "metadata": {
  "kernelspec": {
   "display_name": "Python 3",
   "language": "python",
   "name": "python3"
  },
  "language_info": {
   "codemirror_mode": {
    "name": "ipython",
    "version": 3
   },
   "file_extension": ".py",
   "mimetype": "text/x-python",
   "name": "python",
   "nbconvert_exporter": "python",
   "pygments_lexer": "ipython3",
   "version": "3.7.1"
  }
 },
 "nbformat": 4,
 "nbformat_minor": 1
}
