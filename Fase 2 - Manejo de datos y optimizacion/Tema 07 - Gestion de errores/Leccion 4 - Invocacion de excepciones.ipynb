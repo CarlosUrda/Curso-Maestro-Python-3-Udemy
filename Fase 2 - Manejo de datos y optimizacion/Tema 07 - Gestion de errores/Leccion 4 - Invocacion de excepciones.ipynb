{
 "cells": [
  {
   "cell_type": "code",
   "execution_count": 22,
   "metadata": {},
   "outputs": [
    {
     "name": "stdout",
     "output_type": "stream",
     "text": [
      "El argumento cadena debe contener un entero\n"
     ]
    }
   ],
   "source": [
    "def funcion(valor):\n",
    "    try:\n",
    "        valor = int(valor)\n",
    "    except TypeError as e:\n",
    "        raise TypeError(\"El argumento debe ser un entero o convertible a entero\") from e\n",
    "    except ValueError as e:\n",
    "        raise ValueError(\"El argumento cadena debe contener un entero\") from e\n",
    "        \n",
    "try:\n",
    "    funcion(\"k\")\n",
    "except TypeError as e:\n",
    "    print(e)\n",
    "except ValueError as e:\n",
    "    print(e)    "
   ]
  },
  {
   "cell_type": "code",
   "execution_count": null,
   "metadata": {},
   "outputs": [],
   "source": []
  }
 ],
 "metadata": {
  "kernelspec": {
   "display_name": "Python 3",
   "language": "python",
   "name": "python3"
  },
  "language_info": {
   "codemirror_mode": {
    "name": "ipython",
    "version": 3
   },
   "file_extension": ".py",
   "mimetype": "text/x-python",
   "name": "python",
   "nbconvert_exporter": "python",
   "pygments_lexer": "ipython3",
   "version": "3.7.1"
  }
 },
 "nbformat": 4,
 "nbformat_minor": 1
}
