{
 "cells": [
  {
   "cell_type": "code",
   "execution_count": 4,
   "metadata": {},
   "outputs": [
    {
     "name": "stdout",
     "output_type": "stream",
     "text": [
      "Introduce un número entero: d\n",
      "Tienes que introducir un número entero\n",
      "Se ha intentado leer un número 1 veces\n",
      "Introduce un número entero: f\n",
      "Tienes que introducir un número entero\n",
      "Se ha intentado leer un número 2 veces\n",
      "Introduce un número entero: g\n",
      "Tienes que introducir un número entero\n",
      "Se ha intentado leer un número 3 veces\n",
      "Introduce un número entero: t\n",
      "Tienes que introducir un número entero\n",
      "Se ha intentado leer un número 4 veces\n",
      "Introduce un número entero: 3\n",
      "Se ha intentado leer un número 5 veces\n"
     ]
    }
   ],
   "source": [
    "iteraciones = 0\n",
    "while True:\n",
    "    try:\n",
    "        numero = int(input(\"Introduce un número entero: \"))\n",
    "    except:\n",
    "        print(\"Tienes que introducir un número entero\")\n",
    "    else:\n",
    "        break\n",
    "    finally:\n",
    "        iteraciones += 1\n",
    "        print(f\"Se ha intentado leer un número {iteraciones} veces\")\n",
    "    "
   ]
  },
  {
   "cell_type": "code",
   "execution_count": null,
   "metadata": {},
   "outputs": [],
   "source": []
  }
 ],
 "metadata": {
  "kernelspec": {
   "display_name": "Python 3",
   "language": "python",
   "name": "python3"
  },
  "language_info": {
   "codemirror_mode": {
    "name": "ipython",
    "version": 3
   },
   "file_extension": ".py",
   "mimetype": "text/x-python",
   "name": "python",
   "nbconvert_exporter": "python",
   "pygments_lexer": "ipython3",
   "version": "3.7.1"
  }
 },
 "nbformat": 4,
 "nbformat_minor": 1
}
