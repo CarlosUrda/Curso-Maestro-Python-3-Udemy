{
 "cells": [
  {
   "cell_type": "code",
   "execution_count": 36,
   "metadata": {},
   "outputs": [
    {
     "name": "stdout",
     "output_type": "stream",
     "text": [
      "Se crea la pelicula\n",
      "Se borra la pelicula\n"
     ]
    }
   ],
   "source": [
    "class Pelicula():\n",
    "    num_peliculas = 0\n",
    "    \n",
    "    def __init__(self, nombre, fecha, duracion):\n",
    "        self.nombre = nombre\n",
    "        self.fecha = fecha\n",
    "        self.duracion = duracion\n",
    "        self.__class__.num_peliculas += 1\n",
    "        print(\"Se crea la pelicula\")\n",
    "        \n",
    "    def __del__(self):\n",
    "        self.__class__.num_peliculas -= 1\n",
    "        print(\"Se borra la pelicula\")\n",
    "        \n",
    "    def __str__(self):\n",
    "        return f\"{self.nombre}, año {self.fecha}, {self.duracion} minutos\"\n",
    "    \n",
    "    def __len__(self):\n",
    "        return self.duracion\n",
    "        \n",
    "        \n",
    "pelicula = Pelicula(\"Drive\", 2008, 120)\n",
    "        "
   ]
  },
  {
   "cell_type": "code",
   "execution_count": 26,
   "metadata": {},
   "outputs": [
    {
     "data": {
      "text/plain": [
       "1"
      ]
     },
     "execution_count": 26,
     "metadata": {},
     "output_type": "execute_result"
    }
   ],
   "source": [
    "pelicula.num_peliculas"
   ]
  },
  {
   "cell_type": "code",
   "execution_count": 27,
   "metadata": {},
   "outputs": [
    {
     "name": "stdout",
     "output_type": "stream",
     "text": [
      "Se borra la pelicula\n"
     ]
    }
   ],
   "source": [
    "del pelicula\n"
   ]
  },
  {
   "cell_type": "code",
   "execution_count": 28,
   "metadata": {},
   "outputs": [
    {
     "data": {
      "text/plain": [
       "0"
      ]
     },
     "execution_count": 28,
     "metadata": {},
     "output_type": "execute_result"
    }
   ],
   "source": [
    "Pelicula.num_peliculas"
   ]
  },
  {
   "cell_type": "code",
   "execution_count": 29,
   "metadata": {},
   "outputs": [
    {
     "name": "stdout",
     "output_type": "stream",
     "text": [
      "Se crea la pelicula\n"
     ]
    }
   ],
   "source": [
    "pelicula = Pelicula(\"Gattaca\", 1977, 120)"
   ]
  },
  {
   "cell_type": "code",
   "execution_count": 35,
   "metadata": {},
   "outputs": [
    {
     "data": {
      "text/plain": [
       "'Drive, año 2008, 120 minutos'"
      ]
     },
     "execution_count": 35,
     "metadata": {},
     "output_type": "execute_result"
    }
   ],
   "source": [
    "str(pelicula)"
   ]
  },
  {
   "cell_type": "code",
   "execution_count": 37,
   "metadata": {},
   "outputs": [
    {
     "data": {
      "text/plain": [
       "120"
      ]
     },
     "execution_count": 37,
     "metadata": {},
     "output_type": "execute_result"
    }
   ],
   "source": [
    "len(pelicula)"
   ]
  },
  {
   "cell_type": "code",
   "execution_count": null,
   "metadata": {},
   "outputs": [],
   "source": []
  }
 ],
 "metadata": {
  "kernelspec": {
   "display_name": "Python 3",
   "language": "python",
   "name": "python3"
  },
  "language_info": {
   "codemirror_mode": {
    "name": "ipython",
    "version": 3
   },
   "file_extension": ".py",
   "mimetype": "text/x-python",
   "name": "python",
   "nbconvert_exporter": "python",
   "pygments_lexer": "ipython3",
   "version": "3.7.1"
  }
 },
 "nbformat": 4,
 "nbformat_minor": 1
}
