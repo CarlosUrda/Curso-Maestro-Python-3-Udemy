{
 "cells": [
  {
   "cell_type": "code",
   "execution_count": 7,
   "metadata": {},
   "outputs": [
    {
     "name": "stdout",
     "output_type": "stream",
     "text": [
      "Objeto creado de A\n",
      "Objeto creado de C\n",
      "Objeto A (C)\n",
      "Metodo A\n",
      "Metodo B\n",
      "Metodo C\n"
     ]
    }
   ],
   "source": [
    "class A():\n",
    "    def __init__(self):\n",
    "        print(\"Objeto creado de A\")\n",
    "        \n",
    "    def __str__(self):\n",
    "        return f\"Objeto A ({self.__class__.__name__})\"\n",
    "    \n",
    "    def metodo_a(self):\n",
    "        print(\"Metodo A\")\n",
    "    \n",
    "        \n",
    "class B():\n",
    "    def __init__(self):\n",
    "        print(\"Objeto creado de B\")\n",
    "\n",
    "    def __str__(self):\n",
    "        return f\"Objeto B ({self.__class__.__name__})\"\n",
    "\n",
    "    def metodo_b(self):\n",
    "        print(\"Metodo B\")\n",
    "        \n",
    "    \n",
    "class C(A,B):\n",
    "    def __init__(self):\n",
    "        super().__init__()\n",
    "        print(\"Objeto creado de C\")\n",
    "\n",
    "    def metodo_c(self):\n",
    "        print(\"Metodo C\")\n",
    "        \n",
    "        \n",
    "c = C()\n",
    "print(c)    \n",
    "c.metodo_a()    \n",
    "c.metodo_b()\n",
    "c.metodo_c()"
   ]
  },
  {
   "cell_type": "code",
   "execution_count": 10,
   "metadata": {},
   "outputs": [
    {
     "name": "stdout",
     "output_type": "stream",
     "text": [
      "Objeto creado de B\n",
      "Objeto creado de A\n",
      "Objeto creado de C\n",
      "Objeto B (C) - Objeto A (C)\n",
      "Metodo A\n",
      "Metodo B\n",
      "Metodo C\n"
     ]
    }
   ],
   "source": [
    "class A():\n",
    "    def __init__(self):\n",
    "        super().__init__()\n",
    "        print(\"Objeto creado de A\")\n",
    "        \n",
    "    def __str__(self):\n",
    "        return super().__str__() + f\" - Objeto A ({self.__class__.__name__})\"\n",
    "    \n",
    "    def metodo_a(self):\n",
    "        print(\"Metodo A\")\n",
    "    \n",
    "        \n",
    "class B():\n",
    "    def __init__(self):\n",
    "        print(\"Objeto creado de B\")\n",
    "\n",
    "    def __str__(self):\n",
    "        return f\"Objeto B ({self.__class__.__name__})\"\n",
    "\n",
    "    def metodo_b(self):\n",
    "        print(\"Metodo B\")\n",
    "        \n",
    "    \n",
    "class C(A,B):\n",
    "    def __init__(self):\n",
    "        super().__init__()\n",
    "        print(\"Objeto creado de C\")\n",
    "\n",
    "    def metodo_c(self):\n",
    "        print(\"Metodo C\")\n",
    "        \n",
    "        \n",
    "c = C()\n",
    "print(c)    \n",
    "c.metodo_a()    \n",
    "c.metodo_b()\n",
    "c.metodo_c()"
   ]
  },
  {
   "cell_type": "code",
   "execution_count": null,
   "metadata": {},
   "outputs": [],
   "source": []
  },
  {
   "cell_type": "code",
   "execution_count": null,
   "metadata": {},
   "outputs": [],
   "source": []
  }
 ],
 "metadata": {
  "kernelspec": {
   "display_name": "Python 3",
   "language": "python",
   "name": "python3"
  },
  "language_info": {
   "codemirror_mode": {
    "name": "ipython",
    "version": 3
   },
   "file_extension": ".py",
   "mimetype": "text/x-python",
   "name": "python",
   "nbconvert_exporter": "python",
   "pygments_lexer": "ipython3",
   "version": "3.7.1"
  }
 },
 "nbformat": 4,
 "nbformat_minor": 1
}
