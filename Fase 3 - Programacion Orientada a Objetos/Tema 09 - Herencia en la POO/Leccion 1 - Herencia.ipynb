{
 "cells": [
  {
   "cell_type": "code",
   "execution_count": 29,
   "metadata": {},
   "outputs": [],
   "source": [
    "class Producto():\n",
    "    \n",
    "    __ancho = 15\n",
    "    \n",
    "    def __init__(self, id, nombre, descripcion, pvp):\n",
    "        self.id = id\n",
    "        self.nombre = nombre\n",
    "        self.descripcion = descripcion\n",
    "        self.pvp = pvp\n",
    "        \n",
    "    def __str__(self):\n",
    "        return (f'{\"ID\":.<{Producto.__ancho}}{self.id}\\n{\"NOMBRE\":.<{Producto.__ancho}}{self.nombre}\\n'\n",
    "                f'{\"DESCRIPCIÓN\":.<{Producto.__ancho}}{self.descripcion}\\n{\"PVP\":.<{Producto.__ancho}}{self.pvp}€\\n')\n",
    "    \n",
    "    \n",
    "    \n",
    "class Adorno(Producto):\n",
    "    \n",
    "    def __init__(self, id, nombre, descripcion, pvp, pais, tipo):\n",
    "        super().__init__(id, nombre, descripcion, pvp)        \n",
    "        self.pais = pais\n",
    "        self.tipo = tipo\n",
    "    \n",
    "    def __str__(self):\n",
    "        return super().__str__() + (f'{\"PAÍS\":.<{super()._Producto__ancho}}{self.pais}\\n'\n",
    "                                    f'{\"TIPO\":.<{super()._Producto__ancho}}{self.tipo}\\n')\n",
    "\n",
    "                \n",
    "class Libro(Producto):\n",
    "    \n",
    "    def __init__(self, autor, anno, categoria):\n",
    "        pass\n",
    "        \n",
    "    \n",
    "class Alimento(Producto):\n",
    "    \n",
    "    def __init__(self, pais, caducidad, ):\n",
    "        pass"
   ]
  },
  {
   "cell_type": "code",
   "execution_count": 8,
   "metadata": {},
   "outputs": [],
   "source": [
    "producto = Producto(1, \"Blade Runner\", \"Novela de ciencia ficción, etc\", 10)"
   ]
  },
  {
   "cell_type": "code",
   "execution_count": 9,
   "metadata": {},
   "outputs": [
    {
     "name": "stdout",
     "output_type": "stream",
     "text": [
      "ID.............1\n",
      "NOMBRE.........Blade Runner\n",
      "DESCRIPCIÓN....Novela de ciencia ficción, etc\n",
      "PVP............10€\n"
     ]
    }
   ],
   "source": [
    "print(producto)"
   ]
  },
  {
   "cell_type": "code",
   "execution_count": 30,
   "metadata": {},
   "outputs": [],
   "source": [
    "adorno = Adorno(2, \"El deseo del emperador\", \"Figura de porcelana en honor al emperador\", 100, \"China\", \"Escultura\")"
   ]
  },
  {
   "cell_type": "code",
   "execution_count": 31,
   "metadata": {},
   "outputs": [
    {
     "name": "stdout",
     "output_type": "stream",
     "text": [
      "ID.............2\n",
      "NOMBRE.........El deseo del emperador\n",
      "DESCRIPCIÓN....Figura de porcelana en honor al emperador\n",
      "PVP............100€\n",
      "PAÍS...........China\n",
      "TIPO...........Escultura\n",
      "\n"
     ]
    }
   ],
   "source": [
    "print(adorno)"
   ]
  },
  {
   "cell_type": "code",
   "execution_count": null,
   "metadata": {},
   "outputs": [],
   "source": []
  }
 ],
 "metadata": {
  "kernelspec": {
   "display_name": "Python 3",
   "language": "python",
   "name": "python3"
  },
  "language_info": {
   "codemirror_mode": {
    "name": "ipython",
    "version": 3
   },
   "file_extension": ".py",
   "mimetype": "text/x-python",
   "name": "python",
   "nbconvert_exporter": "python",
   "pygments_lexer": "ipython3",
   "version": "3.7.1"
  }
 },
 "nbformat": 4,
 "nbformat_minor": 1
}
