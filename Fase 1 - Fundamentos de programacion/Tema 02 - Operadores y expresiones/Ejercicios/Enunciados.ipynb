{
 "cells": [
  {
   "cell_type": "markdown",
   "metadata": {},
   "source": [
    "# Tema 02: Operadores y expresiones (Enunciados)\n",
    "*Nota: Estos ejercicios son optativos para hacer al final de la unidad y están pensados para apoyar tu aprendizaje*."
   ]
  },
  {
   "cell_type": "markdown",
   "metadata": {},
   "source": [
    "**1) Realiza un programa que lea 2 números por teclado y determine los siguientes aspectos (es suficiene con mostrar True o False):**\n",
    "* Si los dos números son iguales\n",
    "* Si los dos números son diferentes\n",
    "* Si el primero es mayor que el segundo\n",
    "* Si el segundo es mayor o igual que el primero"
   ]
  },
  {
   "cell_type": "code",
   "execution_count": 1,
   "metadata": {},
   "outputs": [
    {
     "name": "stdout",
     "output_type": "stream",
     "text": [
      "Introduce el primer número: 4\n",
      "Introduce el segundo número: 8\n",
      "Los números 4 y 8 son iguales: False\n",
      "Los números 4 y 8 son distintos: True\n",
      "El número 4 es mayor que 8: False\n",
      "El número 4 es menor que 8: True\n"
     ]
    }
   ],
   "source": [
    "# Completa el ejercicio aquí\n",
    "num1 = int(input(\"Introduce el primer número: \"))\n",
    "num2 = int(input(\"Introduce el segundo número: \"))\n",
    "\n",
    "print(f\"Los números {num1} y {num2} son iguales:\", num1 == num2)\n",
    "print(f\"Los números {num1} y {num2} son distintos:\", num1 != num2)\n",
    "print(f\"El número {num1} es mayor que {num2}:\", num1 > num2)\n",
    "print(f\"El número {num1} es menor que {num2}:\", num1 < num2)\n"
   ]
  },
  {
   "cell_type": "markdown",
   "metadata": {},
   "source": [
    "**2) Utilizando operadores lógicos, determina si una cadena de texto introducida por el usuario tiene una longitud mayor o igual que 3 y a su vez es menor que 10 (es suficiene con mostrar True o False):**"
   ]
  },
  {
   "cell_type": "code",
   "execution_count": 3,
   "metadata": {},
   "outputs": [
    {
     "name": "stdout",
     "output_type": "stream",
     "text": [
      "Introduce una cadena: Vengaaaa\n",
      "La cadena 'Vengaaaa' tiene longitud 8, mayor o igual que 3 y menor que 10:  True\n"
     ]
    }
   ],
   "source": [
    "# Completa el ejercicio aquí\n",
    "cadena = input(\"Introduce una cadena: \")\n",
    "longitud = len(cadena)\n",
    "print(f\"La cadena '{cadena}' tiene longitud {longitud}, mayor o igual que 3 y menor que 10: \", 3 <= longitud < 10)"
   ]
  },
  {
   "cell_type": "markdown",
   "metadata": {},
   "source": [
    "**3) Realiza un programa que cumpla el siguiente algoritmo utilizando siempre que sea posible operadores en asignación:**\n",
    "* Guarda en una variable numero_magico el valor 12345679 (sin el 8)\n",
    "* Lee por pantalla otro numero_usuario, especifica que sea entre 1 y 9 (asegúrate que es un número)\n",
    "* Multiplica el numero_usuario por 9 en sí mismo\n",
    "* Multiplica el numero_magico por el numero_usuario en sí mismo\n",
    "* Finalmente muestra el valor final del numero_magico por pantalla\n"
   ]
  },
  {
   "cell_type": "code",
   "execution_count": 5,
   "metadata": {},
   "outputs": [
    {
     "name": "stdout",
     "output_type": "stream",
     "text": [
      "Introduce un número entre 1 y 9: 10\n",
      "Error: el número 10 no es válido.\n",
      "Introduce un número entre 1 y 9: 3\n",
      "El número mágico es: 333333333\n"
     ]
    }
   ],
   "source": [
    "# Completa el ejercicio aquí\n",
    "numero_magico = 12345679\n",
    "while True:\n",
    "    numero_usuario = int(input(\"Introduce un número entre 1 y 9: \"))\n",
    "    if (1 <= numero_usuario <= 9):\n",
    "        break\n",
    "    print(f\"Error: el número {numero_usuario} no es válido.\")\n",
    "\n",
    "numero_usuario *= 9\n",
    "numero_magico *= numero_usuario\n",
    "print(\"El número mágico es:\", numero_magico)"
   ]
  },
  {
   "cell_type": "code",
   "execution_count": null,
   "metadata": {},
   "outputs": [],
   "source": []
  },
  {
   "cell_type": "code",
   "execution_count": null,
   "metadata": {},
   "outputs": [],
   "source": []
  }
 ],
 "metadata": {
  "anaconda-cloud": {},
  "kernelspec": {
   "display_name": "Python 3",
   "language": "python",
   "name": "python3"
  },
  "language_info": {
   "codemirror_mode": {
    "name": "ipython",
    "version": 3
   },
   "file_extension": ".py",
   "mimetype": "text/x-python",
   "name": "python",
   "nbconvert_exporter": "python",
   "pygments_lexer": "ipython3",
   "version": "3.7.4"
  }
 },
 "nbformat": 4,
 "nbformat_minor": 1
}
