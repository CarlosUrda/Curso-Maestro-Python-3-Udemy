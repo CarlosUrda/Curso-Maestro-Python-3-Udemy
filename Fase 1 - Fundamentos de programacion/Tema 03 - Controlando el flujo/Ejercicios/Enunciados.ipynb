{
 "cells": [
  {
   "cell_type": "markdown",
   "metadata": {},
   "source": [
    "# Tema 03: Control de flujo (Enunciados)\n",
    "*Nota: Estos ejercicios son optativos para hacer al final de la unidad y están pensados para apoyar tu aprendizaje*."
   ]
  },
  {
   "cell_type": "markdown",
   "metadata": {},
   "source": [
    "**1) Realiza un programa que lea dos números por teclado y permita elegir entre 3 opciones en un menú:** \n",
    "* Mostrar una suma de los dos números\n",
    "* Mostrar una resta de los dos números (el primero menos el segundo)\n",
    "* Mostrar una multiplicación de los dos números\n",
    "* En caso de no introducir una opción válida, el programa informará de que no es correcta."
   ]
  },
  {
   "cell_type": "code",
   "execution_count": 2,
   "metadata": {},
   "outputs": [
    {
     "name": "stdout",
     "output_type": "stream",
     "text": [
      "\n",
      "EJERCICIO 01\n",
      "                Menu\n",
      "    1.- Introducir dos números.\n",
      "    2.- Sumar los números.\n",
      "    3.- Restar los números.\n",
      "    4.- Multiplicar los números.\n",
      "    5.- Dividir los números.\n",
      "    6.- Salir\n",
      "Introduce una opción: 3\n",
      "\n",
      "Introduce primero los números.\n",
      "\n",
      "\n",
      "EJERCICIO 01\n",
      "                Menu\n",
      "    1.- Introducir dos números.\n",
      "    2.- Sumar los números.\n",
      "    3.- Restar los números.\n",
      "    4.- Multiplicar los números.\n",
      "    5.- Dividir los números.\n",
      "    6.- Salir\n",
      "Introduce una opción: 4\n",
      "\n",
      "Introduce primero los números.\n",
      "\n",
      "\n",
      "EJERCICIO 01\n",
      "                Menu\n",
      "    1.- Introducir dos números.\n",
      "    2.- Sumar los números.\n",
      "    3.- Restar los números.\n",
      "    4.- Multiplicar los números.\n",
      "    5.- Dividir los números.\n",
      "    6.- Salir\n",
      "Introduce una opción: 1\n",
      "Introduce el primer número: 7\n",
      "Introduce el segundo número: 9\n",
      "Los números introducidos son 7.0 y 9.0\n",
      "\n",
      "EJERCICIO 01\n",
      "                Menu\n",
      "    1.- Cambiar números 7.0 y 9.0\n",
      "    2.- Sumar los números.\n",
      "    3.- Restar los números.\n",
      "    4.- Multiplicar los números.\n",
      "    5.- Dividir los números.\n",
      "    6.- Salir\n",
      "Introduce una opción: 5\n",
      "7.0 / 9.0 = 0.7777777777777778\n",
      "\n",
      "EJERCICIO 01\n",
      "                Menu\n",
      "    1.- Cambiar números 7.0 y 9.0\n",
      "    2.- Sumar los números.\n",
      "    3.- Restar los números.\n",
      "    4.- Multiplicar los números.\n",
      "    5.- Dividir los números.\n",
      "    6.- Salir\n",
      "Introduce una opción: 2\n",
      "7.0 + 9.0 = 16.0\n",
      "\n",
      "EJERCICIO 01\n",
      "                Menu\n",
      "    1.- Cambiar números 7.0 y 9.0\n",
      "    2.- Sumar los números.\n",
      "    3.- Restar los números.\n",
      "    4.- Multiplicar los números.\n",
      "    5.- Dividir los números.\n",
      "    6.- Salir\n",
      "Introduce una opción: 4\n",
      "7.0 * 9.0 = 63.0\n",
      "\n",
      "EJERCICIO 01\n",
      "                Menu\n",
      "    1.- Cambiar números 7.0 y 9.0\n",
      "    2.- Sumar los números.\n",
      "    3.- Restar los números.\n",
      "    4.- Multiplicar los números.\n",
      "    5.- Dividir los números.\n",
      "    6.- Salir\n",
      "Introduce una opción: 4\n",
      "7.0 * 9.0 = 63.0\n",
      "\n",
      "EJERCICIO 01\n",
      "                Menu\n",
      "    1.- Cambiar números 7.0 y 9.0\n",
      "    2.- Sumar los números.\n",
      "    3.- Restar los números.\n",
      "    4.- Multiplicar los números.\n",
      "    5.- Dividir los números.\n",
      "    6.- Salir\n",
      "Introduce una opción: 3\n",
      "7.0 - 9.0 = -2.0\n",
      "\n",
      "EJERCICIO 01\n",
      "                Menu\n",
      "    1.- Cambiar números 7.0 y 9.0\n",
      "    2.- Sumar los números.\n",
      "    3.- Restar los números.\n",
      "    4.- Multiplicar los números.\n",
      "    5.- Dividir los números.\n",
      "    6.- Salir\n",
      "Introduce una opción: 5\n",
      "7.0 / 9.0 = 0.7777777777777778\n",
      "\n",
      "EJERCICIO 01\n",
      "                Menu\n",
      "    1.- Cambiar números 7.0 y 9.0\n",
      "    2.- Sumar los números.\n",
      "    3.- Restar los números.\n",
      "    4.- Multiplicar los números.\n",
      "    5.- Dividir los números.\n",
      "    6.- Salir\n",
      "Introduce una opción: 1\n",
      "Introduce el primer número: 999\n",
      "Introduce el segundo número: 77\n",
      "Los números introducidos son 999.0 y 77.0\n",
      "\n",
      "EJERCICIO 01\n",
      "                Menu\n",
      "    1.- Cambiar números 999.0 y 77.0\n",
      "    2.- Sumar los números.\n",
      "    3.- Restar los números.\n",
      "    4.- Multiplicar los números.\n",
      "    5.- Dividir los números.\n",
      "    6.- Salir\n",
      "Introduce una opción: 5\n",
      "999.0 / 77.0 = 12.974025974025974\n",
      "\n",
      "EJERCICIO 01\n",
      "                Menu\n",
      "    1.- Cambiar números 999.0 y 77.0\n",
      "    2.- Sumar los números.\n",
      "    3.- Restar los números.\n",
      "    4.- Multiplicar los números.\n",
      "    5.- Dividir los números.\n",
      "    6.- Salir\n",
      "Introduce una opción: 2\n",
      "999.0 + 77.0 = 1076.0\n",
      "\n",
      "EJERCICIO 01\n",
      "                Menu\n",
      "    1.- Cambiar números 999.0 y 77.0\n",
      "    2.- Sumar los números.\n",
      "    3.- Restar los números.\n",
      "    4.- Multiplicar los números.\n",
      "    5.- Dividir los números.\n",
      "    6.- Salir\n",
      "Introduce una opción: 6\n",
      "Saliendo...\n"
     ]
    }
   ],
   "source": [
    "operadores = {'2': '+', '3': '-', '4': '*', '5': '/'}\n",
    "numero1 = numero2 = None\n",
    "\n",
    "while True:\n",
    "    sin_numeros = numero1 is None or numero2 is None\n",
    "    \n",
    "    print(f\"\"\"\\nEJERCICIO 01\n",
    "                Menu\n",
    "    1.- {'Introducir dos números.' if sin_numeros else f'Cambiar números {numero1} y {numero2}'}\n",
    "    2.- Sumar los números.\n",
    "    3.- Restar los números.\n",
    "    4.- Multiplicar los números.\n",
    "    5.- Dividir los números.\n",
    "    6.- Salir\"\"\")\n",
    "    \n",
    "    opcion = input(\"Introduce una opción: \")\n",
    "    \n",
    "    if opcion == '1':\n",
    "        try:\n",
    "            numero1 = float(input(\"Introduce el primer número: \"))\n",
    "            numero2 = float(input(\"Introduce el segundo número: \"))\n",
    "        except ValueError:\n",
    "            print(\"\\nIntroduce números en formato correcto.\\n\")\n",
    "            numero1 = numero2 = None\n",
    "        else:      \n",
    "            print(f\"Los números introducidos son {numero1} y {numero2}\")\n",
    "        \n",
    "    elif opcion in operadores:\n",
    "        if sin_numeros:\n",
    "            print(\"\\nIntroduce primero los números.\\n\")\n",
    "            continue\n",
    "        if opcion == '4' and numero2 == 0:\n",
    "            print(\"\\nNo se puede dividir entre 0.\\n\")\n",
    "            continue\n",
    "        operacion = f\"{numero1} {operadores[opcion]} {numero2}\"\n",
    "        print(operacion + \" =\", eval(operacion))\n",
    "        \n",
    "    elif opcion == '6':\n",
    "        print(\"Saliendo...\")\n",
    "        break\n",
    "        \n",
    "    else:\n",
    "        print(\"\\nIntroduce una opción correcta.\\n\")\n",
    "        \n",
    "    "
   ]
  },
  {
   "cell_type": "markdown",
   "metadata": {},
   "source": [
    "**2) Realiza un programa que lea un número impar por teclado. Si el usuario no introduce un número impar, debe repetise el proceso hasta que lo introduzca correctamente.**"
   ]
  },
  {
   "cell_type": "code",
   "execution_count": 5,
   "metadata": {},
   "outputs": [
    {
     "name": "stdout",
     "output_type": "stream",
     "text": [
      "Introduce el número impar: 4\n",
      "El número 4 introducido no es par.\n",
      "Introduce el número impar: 6\n",
      "El número 6 introducido no es par.\n",
      "Introduce el número impar: 7\n"
     ]
    }
   ],
   "source": [
    "while True:\n",
    "    numero = int(input(\"Introduce el número impar: \"))\n",
    "    if numero % 2 == 1:\n",
    "        break\n",
    "    \n",
    "    print(f\"El número {numero} introducido no es par.\")\n",
    "        \n",
    "\n"
   ]
  },
  {
   "cell_type": "markdown",
   "metadata": {},
   "source": [
    "**3) Realiza un programa que sume todos los números enteros pares desde el 0 hasta el 100:**\n",
    "\n",
    "*Sugerencia: Puedes utilizar la funciones sum() y range() para hacerlo más fácil. El tercer parámetro en la función range(inicio, fin, salto) indica un salto de números, pruébalo.*"
   ]
  },
  {
   "cell_type": "code",
   "execution_count": 8,
   "metadata": {},
   "outputs": [
    {
     "name": "stdout",
     "output_type": "stream",
     "text": [
      "[0, 2, 4, 6, 8, 10, 12, 14, 16, 18, 20, 22, 24, 26, 28, 30, 32, 34, 36, 38, 40, 42, 44, 46, 48, 50, 52, 54, 56, 58, 60, 62, 64, 66, 68, 70, 72, 74, 76, 78, 80, 82, 84, 86, 88, 90, 92, 94, 96, 98, 100]\n"
     ]
    },
    {
     "data": {
      "text/plain": [
       "2550"
      ]
     },
     "execution_count": 8,
     "metadata": {},
     "output_type": "execute_result"
    }
   ],
   "source": [
    "lista = list(range(0, 101, 2))\n",
    "print(lista)\n",
    "sum(lista)\n"
   ]
  },
  {
   "cell_type": "markdown",
   "metadata": {},
   "source": [
    "**4) Realiza un programa que pida al usuario cuantos números quiere introducir. Luego lee todos los números y realiza una media aritmética:**\n"
   ]
  },
  {
   "cell_type": "code",
   "execution_count": 9,
   "metadata": {},
   "outputs": [
    {
     "name": "stdout",
     "output_type": "stream",
     "text": [
      "Introduce cuántos números: 4\n",
      "Introduce un número: 1\n",
      "Introduce un número: 2\n",
      "Introduce un número: 3\n",
      "Introduce un número: 4\n",
      "La media aritmética es  2.5\n"
     ]
    }
   ],
   "source": [
    "longitud = int(input(\"Introduce cuántos números: \"))\n",
    "numeros = []\n",
    "for i in range(longitud):\n",
    "    numero = int(input(\"Introduce un número: \"))\n",
    "    numeros.append(numero)\n",
    "    \n",
    "print(\"La media aritmética es \", sum(numeros)/longitud)\n",
    "    \n"
   ]
  },
  {
   "cell_type": "markdown",
   "metadata": {},
   "source": [
    "**5) Realiza un programa que pida al usuario un número entero del 0 al 9, y que mientras el número no sea correcto se repita el proceso. Luego debe comprobar si el número se encuentra en la lista de números y notificarlo:**\n",
    "\n",
    "*Consejo: La sintaxis \"valor in lista\" permite comprobar fácilmente si un valor se encuentra en una lista (devuelve True o False)*"
   ]
  },
  {
   "cell_type": "code",
   "execution_count": 17,
   "metadata": {},
   "outputs": [
    {
     "name": "stdout",
     "output_type": "stream",
     "text": [
      "Introduce un número [0-9]: 4\n",
      "El número 4 no está en la lista [1, 3, 6, 9]\n",
      "Introduce un número [0-9]: 5\n",
      "El número 5 no está en la lista [1, 3, 6, 9]\n",
      "Introduce un número [0-9]: 6\n",
      "El número 6 sí está en la lista [1, 3, 6, 9]\n",
      "Introduce un número [0-9]: 7\n",
      "El número 7 no está en la lista [1, 3, 6, 9]\n",
      "Introduce un número [0-9]: 9\n",
      "El número 9 sí está en la lista [1, 3, 6, 9]\n"
     ]
    },
    {
     "ename": "KeyboardInterrupt",
     "evalue": "",
     "output_type": "error",
     "traceback": [
      "\u001b[0;31m---------------------------------------------------------------------------\u001b[0m",
      "\u001b[0;31mKeyboardInterrupt\u001b[0m                         Traceback (most recent call last)",
      "\u001b[0;32m~/anaconda3/lib/python3.7/site-packages/ipykernel/kernelbase.py\u001b[0m in \u001b[0;36m_input_request\u001b[0;34m(self, prompt, ident, parent, password)\u001b[0m\n\u001b[1;32m    877\u001b[0m             \u001b[0;32mtry\u001b[0m\u001b[0;34m:\u001b[0m\u001b[0;34m\u001b[0m\u001b[0;34m\u001b[0m\u001b[0m\n\u001b[0;32m--> 878\u001b[0;31m                 \u001b[0mident\u001b[0m\u001b[0;34m,\u001b[0m \u001b[0mreply\u001b[0m \u001b[0;34m=\u001b[0m \u001b[0mself\u001b[0m\u001b[0;34m.\u001b[0m\u001b[0msession\u001b[0m\u001b[0;34m.\u001b[0m\u001b[0mrecv\u001b[0m\u001b[0;34m(\u001b[0m\u001b[0mself\u001b[0m\u001b[0;34m.\u001b[0m\u001b[0mstdin_socket\u001b[0m\u001b[0;34m,\u001b[0m \u001b[0;36m0\u001b[0m\u001b[0;34m)\u001b[0m\u001b[0;34m\u001b[0m\u001b[0;34m\u001b[0m\u001b[0m\n\u001b[0m\u001b[1;32m    879\u001b[0m             \u001b[0;32mexcept\u001b[0m \u001b[0mException\u001b[0m\u001b[0;34m:\u001b[0m\u001b[0;34m\u001b[0m\u001b[0;34m\u001b[0m\u001b[0m\n",
      "\u001b[0;32m~/anaconda3/lib/python3.7/site-packages/jupyter_client/session.py\u001b[0m in \u001b[0;36mrecv\u001b[0;34m(self, socket, mode, content, copy)\u001b[0m\n\u001b[1;32m    802\u001b[0m         \u001b[0;32mtry\u001b[0m\u001b[0;34m:\u001b[0m\u001b[0;34m\u001b[0m\u001b[0;34m\u001b[0m\u001b[0m\n\u001b[0;32m--> 803\u001b[0;31m             \u001b[0mmsg_list\u001b[0m \u001b[0;34m=\u001b[0m \u001b[0msocket\u001b[0m\u001b[0;34m.\u001b[0m\u001b[0mrecv_multipart\u001b[0m\u001b[0;34m(\u001b[0m\u001b[0mmode\u001b[0m\u001b[0;34m,\u001b[0m \u001b[0mcopy\u001b[0m\u001b[0;34m=\u001b[0m\u001b[0mcopy\u001b[0m\u001b[0;34m)\u001b[0m\u001b[0;34m\u001b[0m\u001b[0;34m\u001b[0m\u001b[0m\n\u001b[0m\u001b[1;32m    804\u001b[0m         \u001b[0;32mexcept\u001b[0m \u001b[0mzmq\u001b[0m\u001b[0;34m.\u001b[0m\u001b[0mZMQError\u001b[0m \u001b[0;32mas\u001b[0m \u001b[0me\u001b[0m\u001b[0;34m:\u001b[0m\u001b[0;34m\u001b[0m\u001b[0;34m\u001b[0m\u001b[0m\n",
      "\u001b[0;32m~/anaconda3/lib/python3.7/site-packages/zmq/sugar/socket.py\u001b[0m in \u001b[0;36mrecv_multipart\u001b[0;34m(self, flags, copy, track)\u001b[0m\n\u001b[1;32m    466\u001b[0m         \"\"\"\n\u001b[0;32m--> 467\u001b[0;31m         \u001b[0mparts\u001b[0m \u001b[0;34m=\u001b[0m \u001b[0;34m[\u001b[0m\u001b[0mself\u001b[0m\u001b[0;34m.\u001b[0m\u001b[0mrecv\u001b[0m\u001b[0;34m(\u001b[0m\u001b[0mflags\u001b[0m\u001b[0;34m,\u001b[0m \u001b[0mcopy\u001b[0m\u001b[0;34m=\u001b[0m\u001b[0mcopy\u001b[0m\u001b[0;34m,\u001b[0m \u001b[0mtrack\u001b[0m\u001b[0;34m=\u001b[0m\u001b[0mtrack\u001b[0m\u001b[0;34m)\u001b[0m\u001b[0;34m]\u001b[0m\u001b[0;34m\u001b[0m\u001b[0;34m\u001b[0m\u001b[0m\n\u001b[0m\u001b[1;32m    468\u001b[0m         \u001b[0;31m# have first part already, only loop while more to receive\u001b[0m\u001b[0;34m\u001b[0m\u001b[0;34m\u001b[0m\u001b[0;34m\u001b[0m\u001b[0m\n",
      "\u001b[0;32mzmq/backend/cython/socket.pyx\u001b[0m in \u001b[0;36mzmq.backend.cython.socket.Socket.recv\u001b[0;34m()\u001b[0m\n",
      "\u001b[0;32mzmq/backend/cython/socket.pyx\u001b[0m in \u001b[0;36mzmq.backend.cython.socket.Socket.recv\u001b[0;34m()\u001b[0m\n",
      "\u001b[0;32mzmq/backend/cython/socket.pyx\u001b[0m in \u001b[0;36mzmq.backend.cython.socket._recv_copy\u001b[0;34m()\u001b[0m\n",
      "\u001b[0;32m~/anaconda3/lib/python3.7/site-packages/zmq/backend/cython/checkrc.pxd\u001b[0m in \u001b[0;36mzmq.backend.cython.checkrc._check_rc\u001b[0;34m()\u001b[0m\n",
      "\u001b[0;31mKeyboardInterrupt\u001b[0m: ",
      "\nDuring handling of the above exception, another exception occurred:\n",
      "\u001b[0;31mKeyboardInterrupt\u001b[0m                         Traceback (most recent call last)",
      "\u001b[0;32m<ipython-input-17-9019f575653c>\u001b[0m in \u001b[0;36m<module>\u001b[0;34m\u001b[0m\n\u001b[1;32m      3\u001b[0m \u001b[0;32mwhile\u001b[0m \u001b[0;32mTrue\u001b[0m\u001b[0;34m:\u001b[0m\u001b[0;34m\u001b[0m\u001b[0;34m\u001b[0m\u001b[0m\n\u001b[1;32m      4\u001b[0m     \u001b[0;32mtry\u001b[0m\u001b[0;34m:\u001b[0m\u001b[0;34m\u001b[0m\u001b[0;34m\u001b[0m\u001b[0m\n\u001b[0;32m----> 5\u001b[0;31m         \u001b[0mnumero\u001b[0m \u001b[0;34m=\u001b[0m \u001b[0mint\u001b[0m\u001b[0;34m(\u001b[0m\u001b[0minput\u001b[0m\u001b[0;34m(\u001b[0m\u001b[0;34m\"Introduce un número [0-9]: \"\u001b[0m\u001b[0;34m)\u001b[0m\u001b[0;34m)\u001b[0m\u001b[0;34m\u001b[0m\u001b[0;34m\u001b[0m\u001b[0m\n\u001b[0m\u001b[1;32m      6\u001b[0m     \u001b[0;32mexcept\u001b[0m \u001b[0mValueError\u001b[0m\u001b[0;34m:\u001b[0m\u001b[0;34m\u001b[0m\u001b[0;34m\u001b[0m\u001b[0m\n\u001b[1;32m      7\u001b[0m         \u001b[0mprint\u001b[0m\u001b[0;34m(\u001b[0m\u001b[0;34m\"\\nDebes introducir un número entero.\\n\"\u001b[0m\u001b[0;34m)\u001b[0m\u001b[0;34m\u001b[0m\u001b[0;34m\u001b[0m\u001b[0m\n",
      "\u001b[0;32m~/anaconda3/lib/python3.7/site-packages/ipykernel/kernelbase.py\u001b[0m in \u001b[0;36mraw_input\u001b[0;34m(self, prompt)\u001b[0m\n\u001b[1;32m    851\u001b[0m             \u001b[0mself\u001b[0m\u001b[0;34m.\u001b[0m\u001b[0m_parent_ident\u001b[0m\u001b[0;34m,\u001b[0m\u001b[0;34m\u001b[0m\u001b[0;34m\u001b[0m\u001b[0m\n\u001b[1;32m    852\u001b[0m             \u001b[0mself\u001b[0m\u001b[0;34m.\u001b[0m\u001b[0m_parent_header\u001b[0m\u001b[0;34m,\u001b[0m\u001b[0;34m\u001b[0m\u001b[0;34m\u001b[0m\u001b[0m\n\u001b[0;32m--> 853\u001b[0;31m             \u001b[0mpassword\u001b[0m\u001b[0;34m=\u001b[0m\u001b[0;32mFalse\u001b[0m\u001b[0;34m,\u001b[0m\u001b[0;34m\u001b[0m\u001b[0;34m\u001b[0m\u001b[0m\n\u001b[0m\u001b[1;32m    854\u001b[0m         )\n\u001b[1;32m    855\u001b[0m \u001b[0;34m\u001b[0m\u001b[0m\n",
      "\u001b[0;32m~/anaconda3/lib/python3.7/site-packages/ipykernel/kernelbase.py\u001b[0m in \u001b[0;36m_input_request\u001b[0;34m(self, prompt, ident, parent, password)\u001b[0m\n\u001b[1;32m    881\u001b[0m             \u001b[0;32mexcept\u001b[0m \u001b[0mKeyboardInterrupt\u001b[0m\u001b[0;34m:\u001b[0m\u001b[0;34m\u001b[0m\u001b[0;34m\u001b[0m\u001b[0m\n\u001b[1;32m    882\u001b[0m                 \u001b[0;31m# re-raise KeyboardInterrupt, to truncate traceback\u001b[0m\u001b[0;34m\u001b[0m\u001b[0;34m\u001b[0m\u001b[0;34m\u001b[0m\u001b[0m\n\u001b[0;32m--> 883\u001b[0;31m                 \u001b[0;32mraise\u001b[0m \u001b[0mKeyboardInterrupt\u001b[0m\u001b[0;34m\u001b[0m\u001b[0;34m\u001b[0m\u001b[0m\n\u001b[0m\u001b[1;32m    884\u001b[0m             \u001b[0;32melse\u001b[0m\u001b[0;34m:\u001b[0m\u001b[0;34m\u001b[0m\u001b[0;34m\u001b[0m\u001b[0m\n\u001b[1;32m    885\u001b[0m                 \u001b[0;32mbreak\u001b[0m\u001b[0;34m\u001b[0m\u001b[0;34m\u001b[0m\u001b[0m\n",
      "\u001b[0;31mKeyboardInterrupt\u001b[0m: "
     ]
    }
   ],
   "source": [
    "numeros = [1, 3, 6, 9]\n",
    "\n",
    "while True:\n",
    "    try:\n",
    "        numero = int(input(\"Introduce un número [0-9]: \"))\n",
    "    except ValueError:\n",
    "        print(\"\\nDebes introducir un número entero.\\n\")\n",
    "        continue\n",
    "    if numero < 0 or numero > 9:\n",
    "        print(\"\\nDebes introducir un número entre 0 y 9.\\n\")\n",
    "        continue\n",
    "        \n",
    "    print(f\"El número {numero} {'sí' if numero in numeros else 'no'} está en la lista {numeros}\")        \n",
    "    "
   ]
  },
  {
   "cell_type": "markdown",
   "metadata": {},
   "source": [
    "**6) Utilizando la función range() y la conversión a listas genera las siguientes listas dinámicamente:**\n",
    "* Todos los números del 0 al 10 [0, 1, 2, ..., 10]\n",
    "* Todos los números del -10 al 0 [-10, -9, -8, ..., 0]\n",
    "* Todos los números pares del 0 al 20 [0, 2, 4, ..., 20]\n",
    "* Todos los números impares entre -20 y 0 [-19, -17, -15, ..., -1]\n",
    "* Todos los números múltiples de 5 del 0 al 50 [0, 5, 10, ..., 50]\n",
    "\n",
    "*Pista: Utiliza el tercer parámetro de la función range(inicio, fin, salto).*"
   ]
  },
  {
   "cell_type": "code",
   "execution_count": 18,
   "metadata": {},
   "outputs": [
    {
     "name": "stdout",
     "output_type": "stream",
     "text": [
      "[0, 1, 2, 3, 4, 5, 6, 7, 8, 9, 10]\n",
      "[-10, -9, -8, -7, -6, -5, -4, -3, -2, -1, 0]\n",
      "[0, 2, 4, 6, 8, 10, 12, 14, 16, 18, 20]\n",
      "[-19, -17, -15, -13, -11, -9, -7, -5, -3, -1]\n",
      "[0, 5, 10, 15, 20, 25, 30, 35, 40, 45, 50]\n"
     ]
    }
   ],
   "source": [
    "print(list(range(0, 11)))\n",
    "print(list(range(-10, 1)))\n",
    "print(list(range(0, 21, 2)))\n",
    "print(list(range(-19, 0, 2)))\n",
    "print(list(range(0, 51, 5)))\n"
   ]
  },
  {
   "cell_type": "markdown",
   "metadata": {},
   "source": [
    "**7) Dadas dos listas, debes generar una tercera con todos los elementos que se repitan en ellas, pero no debe repetise ningún elemento en la nueva lista:**"
   ]
  },
  {
   "cell_type": "code",
   "execution_count": 21,
   "metadata": {},
   "outputs": [
    {
     "name": "stdout",
     "output_type": "stream",
     "text": [
      "[8, 9, 7]\n"
     ]
    }
   ],
   "source": [
    "lista1 = list(range(10))\n",
    "lista2 = list(range(7, 20))\n",
    "print(list(set(lista1) & set(lista2)))\n",
    "\n"
   ]
  },
  {
   "cell_type": "code",
   "execution_count": null,
   "metadata": {},
   "outputs": [],
   "source": []
  }
 ],
 "metadata": {
  "anaconda-cloud": {},
  "kernelspec": {
   "display_name": "Python 3",
   "language": "python",
   "name": "python3"
  },
  "language_info": {
   "codemirror_mode": {
    "name": "ipython",
    "version": 3
   },
   "file_extension": ".py",
   "mimetype": "text/x-python",
   "name": "python",
   "nbconvert_exporter": "python",
   "pygments_lexer": "ipython3",
   "version": "3.7.1"
  }
 },
 "nbformat": 4,
 "nbformat_minor": 1
}
