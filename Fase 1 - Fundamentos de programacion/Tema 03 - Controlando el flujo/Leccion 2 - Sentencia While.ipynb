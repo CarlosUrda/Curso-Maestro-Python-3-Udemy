{
 "cells": [
  {
   "cell_type": "code",
   "execution_count": 7,
   "metadata": {},
   "outputs": [
    {
     "name": "stdout",
     "output_type": "stream",
     "text": [
      "Continua con a == 4\n",
      "a: 4\n",
      "a: 5\n",
      "a: 6\n",
      "a: 7\n",
      "Rompe el bucle con a == 8\n"
     ]
    }
   ],
   "source": [
    "a = 0\n",
    "while (a <= 10):\n",
    "    if a == 8:\n",
    "        print(\"Rompe el bucle con a ==\", a)\n",
    "        break\n",
    "    elif a == 1:\n",
    "        a = 4\n",
    "        print(\"Continua con a ==\", a)\n",
    "        continue\n",
    "    elif a >= 4:\n",
    "        print(\"a:\", a)\n",
    "    a += 1\n",
    "else:\n",
    "    print(\"Ha llegado el bucle al final\")"
   ]
  },
  {
   "cell_type": "code",
   "execution_count": null,
   "metadata": {},
   "outputs": [],
   "source": []
  },
  {
   "cell_type": "code",
   "execution_count": null,
   "metadata": {},
   "outputs": [],
   "source": []
  }
 ],
 "metadata": {
  "kernelspec": {
   "display_name": "Python 3",
   "language": "python",
   "name": "python3"
  },
  "language_info": {
   "codemirror_mode": {
    "name": "ipython",
    "version": 3
   },
   "file_extension": ".py",
   "mimetype": "text/x-python",
   "name": "python",
   "nbconvert_exporter": "python",
   "pygments_lexer": "ipython3",
   "version": "3.7.1"
  }
 },
 "nbformat": 4,
 "nbformat_minor": 1
}
